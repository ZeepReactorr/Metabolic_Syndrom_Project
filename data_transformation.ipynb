{
 "cells": [
  {
   "cell_type": "markdown",
   "metadata": {},
   "source": [
    "# Chloé's Work "
   ]
  },
  {
   "cell_type": "code",
   "execution_count": 1,
   "metadata": {},
   "outputs": [],
   "source": [
    "import pandas as pd\n",
    "import plotly as plt\n",
    "import plotly.express as px\n",
    "import numpy as np\n",
    "from sklearn.decomposition import PCA\n",
    "from sklearn.preprocessing import StandardScaler\n",
    "from sklearn.impute import SimpleImputer"
   ]
  },
  {
   "cell_type": "markdown",
   "metadata": {},
   "source": [
    "\n",
    "## Data Preprocessing\n",
    "\n",
    "Cleaning the Dataset.\n",
    "\n",
    "### Data Summarization"
   ]
  },
  {
   "cell_type": "code",
   "execution_count": 2,
   "metadata": {},
   "outputs": [],
   "source": [
    "data = pd.read_csv(\"Metabolic Syndrome.csv\", index_col=\"seqn\")\n",
    "data[\"MetabolicSyndrome\"] = data[\"MetabolicSyndrome\"].astype(\"bool\")\n",
    "categorical_variables = [\"Sex\", \"Marital\", \"Race\"]\n"
   ]
  },
  {
   "cell_type": "markdown",
   "metadata": {},
   "source": [
    "### Replace the missing values"
   ]
  },
  {
   "cell_type": "code",
   "execution_count": 17,
   "metadata": {},
   "outputs": [
    {
     "name": "stdout",
     "output_type": "stream",
     "text": [
      "<bound method NDFrame.head of         Age     Sex  Marital  Income         Race  WaistCirc   BMI  \\\n",
      "seqn                                                                 \n",
      "62161  22.0    Male   Single  8200.0        White       81.0  23.3   \n",
      "62164  44.0  Female  Married  4500.0        White       80.1  23.2   \n",
      "62169  21.0    Male   Single   800.0        Asian       69.6  20.1   \n",
      "62172  43.0  Female   Single  2000.0        Black      120.4  33.3   \n",
      "62177  51.0    Male  Married  2500.0        Asian       81.1  20.1   \n",
      "...     ...     ...      ...     ...          ...        ...   ...   \n",
      "71901  48.0  Female  Married  1000.0        Other       97.0  59.7   \n",
      "71904  30.0  Female   Single  2000.0        Asian       97.0  18.0   \n",
      "71909  28.0    Male   Single   800.0  MexAmerican      100.8  29.4   \n",
      "71911  27.0    Male  Married  8200.0  MexAmerican      106.6  31.3   \n",
      "71915  60.0    Male   Single  6200.0        White      106.6  27.5   \n",
      "\n",
      "       Albuminuria  UrAlbCr  UricAcid  BloodGlucose   HDL  Triglycerides  \\\n",
      "seqn                                                                       \n",
      "62161          0.0     3.88       4.9          92.0  41.0           84.0   \n",
      "62164          0.0     8.55       4.5          82.0  28.0           56.0   \n",
      "62169          0.0     5.07       5.4         107.0  43.0           78.0   \n",
      "62172          0.0     5.22       5.0         104.0  73.0          141.0   \n",
      "62177          0.0     8.13       5.0          95.0  43.0          126.0   \n",
      "...            ...      ...       ...           ...   ...            ...   \n",
      "71901          0.0    22.11       5.8         152.0  57.0          107.0   \n",
      "71904          0.0     2.90       7.9          91.0  90.0           91.0   \n",
      "71909          0.0     2.78       6.2          99.0  47.0           84.0   \n",
      "71911          0.0     4.15       6.2         100.0  41.0          124.0   \n",
      "71915          0.0    12.82       5.2          91.0  36.0          226.0   \n",
      "\n",
      "       MetabolicSyndrome  \n",
      "seqn                      \n",
      "62161              False  \n",
      "62164              False  \n",
      "62169              False  \n",
      "62172              False  \n",
      "62177              False  \n",
      "...                  ...  \n",
      "71901              False  \n",
      "71904              False  \n",
      "71909              False  \n",
      "71911               True  \n",
      "71915               True  \n",
      "\n",
      "[2401 rows x 14 columns]>\n"
     ]
    }
   ],
   "source": [
    "data_imputed = data\n",
    "numeric_cols = data.select_dtypes(include='number').columns\n",
    "\n",
    "num_imputer = SimpleImputer(strategy='median')\n",
    "data_imputed[numeric_cols] = num_imputer.fit_transform(data_imputed[numeric_cols])\n",
    "print(data_imputed.head)"
   ]
  },
  {
   "cell_type": "markdown",
   "metadata": {},
   "source": [
    "### Scale the continuous variables"
   ]
  },
  {
   "cell_type": "code",
   "execution_count": 18,
   "metadata": {},
   "outputs": [
    {
     "name": "stdout",
     "output_type": "stream",
     "text": [
      "        Age    Income  WaistCirc       BMI  Albuminuria   UrAlbCr  UricAcid  \\\n",
      "0 -1.514069  1.472417  -1.081465 -0.813727    -0.364574 -0.153924 -0.409328   \n",
      "1 -0.266138  0.195983  -1.137853 -0.828820    -0.364574 -0.135839 -0.687287   \n",
      "2 -1.570793 -1.080450  -1.795718 -1.296710    -0.364574 -0.149316 -0.061878   \n",
      "3 -0.322862 -0.666472   1.387093  0.695596    -0.364574 -0.148735 -0.339838   \n",
      "4  0.130931 -0.493981  -1.075199 -1.296710    -0.364574 -0.137465 -0.339838   \n",
      "\n",
      "   BloodGlucose       HDL  Triglycerides  \n",
      "0     -0.466711 -0.814723      -0.463003  \n",
      "1     -0.753957 -1.670979      -0.756804  \n",
      "2     -0.035843 -0.682991      -0.525960  \n",
      "3     -0.122017  1.292984       0.135092  \n",
      "4     -0.380538 -0.682991      -0.022301  \n"
     ]
    }
   ],
   "source": [
    "scaler = StandardScaler()\n",
    "data_scaled = pd.DataFrame(scaler.fit_transform(data_imputed[numeric_cols]), columns=numeric_cols)\n",
    "\n",
    "print(data_scaled.head())"
   ]
  },
  {
   "cell_type": "markdown",
   "metadata": {},
   "source": [
    "### Transform continuous variables into categorical variable and create an ”hot one encoding” structure"
   ]
  },
  {
   "cell_type": "code",
   "execution_count": 23,
   "metadata": {},
   "outputs": [
    {
     "name": "stdout",
     "output_type": "stream",
     "text": [
      "<bound method NDFrame.head of           Sex  Marital         Race\n",
      "seqn                               \n",
      "62161    Male   Single        White\n",
      "62164  Female  Married        White\n",
      "62169    Male   Single        Asian\n",
      "62172  Female   Single        Black\n",
      "62177    Male  Married        Asian\n",
      "...       ...      ...          ...\n",
      "71901  Female  Married        Other\n",
      "71904  Female   Single        Asian\n",
      "71909    Male   Single  MexAmerican\n",
      "71911    Male  Married  MexAmerican\n",
      "71915    Male   Single        White\n",
      "\n",
      "[2401 rows x 3 columns]>\n",
      "['Male' 'Female'] [0, 1]\n",
      "['Single' 'Married' 'Widowed' 'Divorced' nan 'Separated'] [0, 1, 2, 3, 4, 5]\n",
      "['White' 'Asian' 'Black' 'MexAmerican' 'Hispanic' 'Other'] [0, 1, 2, 3, 4, 5]\n",
      "<bound method NDFrame.head of         Sex Marital  Race\n",
      "seqn                     \n",
      "62161  None    None  None\n",
      "62164  None    None  None\n",
      "62169  None    None  None\n",
      "62172  None    None  None\n",
      "62177  None    None  None\n",
      "...     ...     ...   ...\n",
      "71901  None    None  None\n",
      "71904  None    None  None\n",
      "71909  None    None  None\n",
      "71911  None    None  None\n",
      "71915  None    None  None\n",
      "\n",
      "[2401 rows x 3 columns]>\n"
     ]
    }
   ],
   "source": [
    "data_encoded = pd.DataFrame(data.select_dtypes(include=\"object\"))\n",
    "print(data_encoded.head)\n",
    "\n",
    "for column in data_encoded.columns : \n",
    "    print(data_encoded[column].unique(), list(range(len(data_encoded[column].unique()))))\n",
    "    data_encoded[column] = data_encoded[column].replace(to_replace=data_encoded[column].unique(), value=list(range(len(data_encoded[column].unique()))), inplace=True)\n",
    "\n",
    "print(data_encoded.head)"
   ]
  },
  {
   "cell_type": "code",
   "execution_count": 11,
   "metadata": {},
   "outputs": [
    {
     "ename": "ValueError",
     "evalue": "Data must be 1-dimensional, got ndarray of shape (2401, 10) instead",
     "output_type": "error",
     "traceback": [
      "\u001b[1;31m---------------------------------------------------------------------------\u001b[0m",
      "\u001b[1;31mValueError\u001b[0m                                Traceback (most recent call last)",
      "Cell \u001b[1;32mIn[11], line 1\u001b[0m\n\u001b[1;32m----> 1\u001b[0m df_encoded \u001b[38;5;241m=\u001b[39m \u001b[43mpd\u001b[49m\u001b[38;5;241;43m.\u001b[39;49m\u001b[43mget_dummies\u001b[49m\u001b[43m(\u001b[49m\u001b[43mdata_scaled\u001b[49m\u001b[43m)\u001b[49m\n\u001b[0;32m      2\u001b[0m df_encoded\u001b[38;5;241m.\u001b[39mdropna()\n\u001b[0;32m      3\u001b[0m df_encoded\u001b[38;5;241m.\u001b[39mdescribe(include\u001b[38;5;241m=\u001b[39m\u001b[38;5;124m\"\u001b[39m\u001b[38;5;124mall\u001b[39m\u001b[38;5;124m\"\u001b[39m)\n",
      "File \u001b[1;32m~\\AppData\\Local\\Packages\\PythonSoftwareFoundation.Python.3.9_qbz5n2kfra8p0\\LocalCache\\local-packages\\Python39\\site-packages\\pandas\\core\\reshape\\encoding.py:215\u001b[0m, in \u001b[0;36mget_dummies\u001b[1;34m(data, prefix, prefix_sep, dummy_na, columns, sparse, drop_first, dtype)\u001b[0m\n\u001b[0;32m    213\u001b[0m     result \u001b[38;5;241m=\u001b[39m concat(with_dummies, axis\u001b[38;5;241m=\u001b[39m\u001b[38;5;241m1\u001b[39m)\n\u001b[0;32m    214\u001b[0m \u001b[38;5;28;01melse\u001b[39;00m:\n\u001b[1;32m--> 215\u001b[0m     result \u001b[38;5;241m=\u001b[39m \u001b[43m_get_dummies_1d\u001b[49m\u001b[43m(\u001b[49m\n\u001b[0;32m    216\u001b[0m \u001b[43m        \u001b[49m\u001b[43mdata\u001b[49m\u001b[43m,\u001b[49m\n\u001b[0;32m    217\u001b[0m \u001b[43m        \u001b[49m\u001b[43mprefix\u001b[49m\u001b[43m,\u001b[49m\n\u001b[0;32m    218\u001b[0m \u001b[43m        \u001b[49m\u001b[43mprefix_sep\u001b[49m\u001b[43m,\u001b[49m\n\u001b[0;32m    219\u001b[0m \u001b[43m        \u001b[49m\u001b[43mdummy_na\u001b[49m\u001b[43m,\u001b[49m\n\u001b[0;32m    220\u001b[0m \u001b[43m        \u001b[49m\u001b[43msparse\u001b[49m\u001b[38;5;241;43m=\u001b[39;49m\u001b[43msparse\u001b[49m\u001b[43m,\u001b[49m\n\u001b[0;32m    221\u001b[0m \u001b[43m        \u001b[49m\u001b[43mdrop_first\u001b[49m\u001b[38;5;241;43m=\u001b[39;49m\u001b[43mdrop_first\u001b[49m\u001b[43m,\u001b[49m\n\u001b[0;32m    222\u001b[0m \u001b[43m        \u001b[49m\u001b[43mdtype\u001b[49m\u001b[38;5;241;43m=\u001b[39;49m\u001b[43mdtype\u001b[49m\u001b[43m,\u001b[49m\n\u001b[0;32m    223\u001b[0m \u001b[43m    \u001b[49m\u001b[43m)\u001b[49m\n\u001b[0;32m    224\u001b[0m \u001b[38;5;28;01mreturn\u001b[39;00m result\n",
      "File \u001b[1;32m~\\AppData\\Local\\Packages\\PythonSoftwareFoundation.Python.3.9_qbz5n2kfra8p0\\LocalCache\\local-packages\\Python39\\site-packages\\pandas\\core\\reshape\\encoding.py:239\u001b[0m, in \u001b[0;36m_get_dummies_1d\u001b[1;34m(data, prefix, prefix_sep, dummy_na, sparse, drop_first, dtype)\u001b[0m\n\u001b[0;32m    236\u001b[0m \u001b[38;5;28;01mfrom\u001b[39;00m \u001b[38;5;21;01mpandas\u001b[39;00m\u001b[38;5;21;01m.\u001b[39;00m\u001b[38;5;21;01mcore\u001b[39;00m\u001b[38;5;21;01m.\u001b[39;00m\u001b[38;5;21;01mreshape\u001b[39;00m\u001b[38;5;21;01m.\u001b[39;00m\u001b[38;5;21;01mconcat\u001b[39;00m \u001b[38;5;28;01mimport\u001b[39;00m concat\n\u001b[0;32m    238\u001b[0m \u001b[38;5;66;03m# Series avoids inconsistent NaN handling\u001b[39;00m\n\u001b[1;32m--> 239\u001b[0m codes, levels \u001b[38;5;241m=\u001b[39m factorize_from_iterable(\u001b[43mSeries\u001b[49m\u001b[43m(\u001b[49m\u001b[43mdata\u001b[49m\u001b[43m,\u001b[49m\u001b[43m \u001b[49m\u001b[43mcopy\u001b[49m\u001b[38;5;241;43m=\u001b[39;49m\u001b[38;5;28;43;01mFalse\u001b[39;49;00m\u001b[43m)\u001b[49m)\n\u001b[0;32m    241\u001b[0m \u001b[38;5;28;01mif\u001b[39;00m dtype \u001b[38;5;129;01mis\u001b[39;00m \u001b[38;5;28;01mNone\u001b[39;00m:\n\u001b[0;32m    242\u001b[0m     dtype \u001b[38;5;241m=\u001b[39m np\u001b[38;5;241m.\u001b[39mdtype(\u001b[38;5;28mbool\u001b[39m)\n",
      "File \u001b[1;32m~\\AppData\\Local\\Packages\\PythonSoftwareFoundation.Python.3.9_qbz5n2kfra8p0\\LocalCache\\local-packages\\Python39\\site-packages\\pandas\\core\\series.py:509\u001b[0m, in \u001b[0;36mSeries.__init__\u001b[1;34m(self, data, index, dtype, name, copy, fastpath)\u001b[0m\n\u001b[0;32m    507\u001b[0m         data \u001b[38;5;241m=\u001b[39m data\u001b[38;5;241m.\u001b[39mcopy()\n\u001b[0;32m    508\u001b[0m \u001b[38;5;28;01melse\u001b[39;00m:\n\u001b[1;32m--> 509\u001b[0m     data \u001b[38;5;241m=\u001b[39m \u001b[43msanitize_array\u001b[49m\u001b[43m(\u001b[49m\u001b[43mdata\u001b[49m\u001b[43m,\u001b[49m\u001b[43m \u001b[49m\u001b[43mindex\u001b[49m\u001b[43m,\u001b[49m\u001b[43m \u001b[49m\u001b[43mdtype\u001b[49m\u001b[43m,\u001b[49m\u001b[43m \u001b[49m\u001b[43mcopy\u001b[49m\u001b[43m)\u001b[49m\n\u001b[0;32m    511\u001b[0m     manager \u001b[38;5;241m=\u001b[39m get_option(\u001b[38;5;124m\"\u001b[39m\u001b[38;5;124mmode.data_manager\u001b[39m\u001b[38;5;124m\"\u001b[39m)\n\u001b[0;32m    512\u001b[0m     \u001b[38;5;28;01mif\u001b[39;00m manager \u001b[38;5;241m==\u001b[39m \u001b[38;5;124m\"\u001b[39m\u001b[38;5;124mblock\u001b[39m\u001b[38;5;124m\"\u001b[39m:\n",
      "File \u001b[1;32m~\\AppData\\Local\\Packages\\PythonSoftwareFoundation.Python.3.9_qbz5n2kfra8p0\\LocalCache\\local-packages\\Python39\\site-packages\\pandas\\core\\construction.py:607\u001b[0m, in \u001b[0;36msanitize_array\u001b[1;34m(data, index, dtype, copy, allow_2d)\u001b[0m\n\u001b[0;32m    604\u001b[0m             subarr \u001b[38;5;241m=\u001b[39m cast(np\u001b[38;5;241m.\u001b[39mndarray, subarr)\n\u001b[0;32m    605\u001b[0m             subarr \u001b[38;5;241m=\u001b[39m maybe_infer_to_datetimelike(subarr)\n\u001b[1;32m--> 607\u001b[0m subarr \u001b[38;5;241m=\u001b[39m \u001b[43m_sanitize_ndim\u001b[49m\u001b[43m(\u001b[49m\u001b[43msubarr\u001b[49m\u001b[43m,\u001b[49m\u001b[43m \u001b[49m\u001b[43mdata\u001b[49m\u001b[43m,\u001b[49m\u001b[43m \u001b[49m\u001b[43mdtype\u001b[49m\u001b[43m,\u001b[49m\u001b[43m \u001b[49m\u001b[43mindex\u001b[49m\u001b[43m,\u001b[49m\u001b[43m \u001b[49m\u001b[43mallow_2d\u001b[49m\u001b[38;5;241;43m=\u001b[39;49m\u001b[43mallow_2d\u001b[49m\u001b[43m)\u001b[49m\n\u001b[0;32m    609\u001b[0m \u001b[38;5;28;01mif\u001b[39;00m \u001b[38;5;28misinstance\u001b[39m(subarr, np\u001b[38;5;241m.\u001b[39mndarray):\n\u001b[0;32m    610\u001b[0m     \u001b[38;5;66;03m# at this point we should have dtype be None or subarr.dtype == dtype\u001b[39;00m\n\u001b[0;32m    611\u001b[0m     dtype \u001b[38;5;241m=\u001b[39m cast(np\u001b[38;5;241m.\u001b[39mdtype, dtype)\n",
      "File \u001b[1;32m~\\AppData\\Local\\Packages\\PythonSoftwareFoundation.Python.3.9_qbz5n2kfra8p0\\LocalCache\\local-packages\\Python39\\site-packages\\pandas\\core\\construction.py:666\u001b[0m, in \u001b[0;36m_sanitize_ndim\u001b[1;34m(result, data, dtype, index, allow_2d)\u001b[0m\n\u001b[0;32m    664\u001b[0m     \u001b[38;5;28;01mif\u001b[39;00m allow_2d:\n\u001b[0;32m    665\u001b[0m         \u001b[38;5;28;01mreturn\u001b[39;00m result\n\u001b[1;32m--> 666\u001b[0m     \u001b[38;5;28;01mraise\u001b[39;00m \u001b[38;5;167;01mValueError\u001b[39;00m(\n\u001b[0;32m    667\u001b[0m         \u001b[38;5;124mf\u001b[39m\u001b[38;5;124m\"\u001b[39m\u001b[38;5;124mData must be 1-dimensional, got ndarray of shape \u001b[39m\u001b[38;5;132;01m{\u001b[39;00mdata\u001b[38;5;241m.\u001b[39mshape\u001b[38;5;132;01m}\u001b[39;00m\u001b[38;5;124m instead\u001b[39m\u001b[38;5;124m\"\u001b[39m\n\u001b[0;32m    668\u001b[0m     )\n\u001b[0;32m    669\u001b[0m \u001b[38;5;28;01mif\u001b[39;00m is_object_dtype(dtype) \u001b[38;5;129;01mand\u001b[39;00m \u001b[38;5;28misinstance\u001b[39m(dtype, ExtensionDtype):\n\u001b[0;32m    670\u001b[0m     \u001b[38;5;66;03m# i.e. PandasDtype(\"O\")\u001b[39;00m\n\u001b[0;32m    672\u001b[0m     result \u001b[38;5;241m=\u001b[39m com\u001b[38;5;241m.\u001b[39masarray_tuplesafe(data, dtype\u001b[38;5;241m=\u001b[39mnp\u001b[38;5;241m.\u001b[39mdtype(\u001b[38;5;124m\"\u001b[39m\u001b[38;5;124mobject\u001b[39m\u001b[38;5;124m\"\u001b[39m))\n",
      "\u001b[1;31mValueError\u001b[0m: Data must be 1-dimensional, got ndarray of shape (2401, 10) instead"
     ]
    }
   ],
   "source": [
    "df_encoded = pd.get_dummies(data_scaled)\n",
    "df_encoded.dropna()\n",
    "df_encoded.describe(include=\"all\")\n",
    "\n"
   ]
  }
 ],
 "metadata": {
  "kernelspec": {
   "display_name": "Python 3",
   "language": "python",
   "name": "python3"
  },
  "language_info": {
   "codemirror_mode": {
    "name": "ipython",
    "version": 3
   },
   "file_extension": ".py",
   "mimetype": "text/x-python",
   "name": "python",
   "nbconvert_exporter": "python",
   "pygments_lexer": "ipython3",
   "version": "3.9.13"
  }
 },
 "nbformat": 4,
 "nbformat_minor": 2
}
