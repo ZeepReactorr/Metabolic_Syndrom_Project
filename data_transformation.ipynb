{
 "cells": [
  {
   "cell_type": "markdown",
   "metadata": {},
   "source": [
    "# Data Transformation"
   ]
  },
  {
   "cell_type": "code",
   "execution_count": null,
   "metadata": {},
   "outputs": [],
   "source": [
    "import pandas as pd\n",
    "import numpy as np\n",
    "from sklearn.preprocessing import StandardScaler\n",
    "from sklearn.impute import SimpleImputer"
   ]
  },
  {
   "cell_type": "markdown",
   "metadata": {},
   "source": [
    "\n",
    "## Data Preprocessing\n",
    "\n",
    "Cleaning the Dataset.\n",
    "\n",
    "### Data Summarization"
   ]
  },
  {
   "cell_type": "code",
   "execution_count": null,
   "metadata": {},
   "outputs": [],
   "source": [
    "data = pd.read_csv(\"Metabolic Syndrome.csv\", index_col=\"seqn\")\n",
    "data[\"MetabolicSyndrome\"] = data[\"MetabolicSyndrome\"].astype(\"bool\")\n",
    "categorical_variables = [\"Sex\", \"Marital\", \"Race\"]"
   ]
  },
  {
   "cell_type": "markdown",
   "metadata": {},
   "source": [
    "### Replace the missing values, Imputer\n",
    "\n",
    "Replacing the missing values by the mean of the column. \n",
    "\n",
    "Warning : does not take in count the Metabolic Syndrom state of the patient"
   ]
  },
  {
   "cell_type": "code",
   "execution_count": null,
   "metadata": {},
   "outputs": [],
   "source": [
    "data_imputed = data\n",
    "\n",
    "for col in data_imputed.select_dtypes(include=\"number\").columns:\n",
    "    imputer = SimpleImputer(missing_values=np.nan, strategy=\"mean\")\n",
    "    imputer.fit(data_imputed[[col]])\n",
    "    data_imputed[col] = imputer.transform(data_imputed[[col]])\n",
    "data_imputed.head()"
   ]
  },
  {
   "cell_type": "markdown",
   "metadata": {},
   "source": [
    "### Transform continuous variables into categorical variable and create an ”hot one encoding” structure"
   ]
  },
  {
   "cell_type": "code",
   "execution_count": null,
   "metadata": {},
   "outputs": [],
   "source": [
    "albuminurie = {0: \"zero\", 1: \"one\", 2:\"two\"}\n",
    "data_encoded = data_imputed.replace({\"Albuminuria\":albuminurie})\n",
    "data_encoded = pd.get_dummies(data_encoded)\n",
    "data_encoded.head()"
   ]
  },
  {
   "cell_type": "markdown",
   "metadata": {},
   "source": [
    "### Scale the continuous variables\n",
    "\n",
    "Warning : does not take in count the multiple outliers"
   ]
  },
  {
   "cell_type": "code",
   "execution_count": null,
   "metadata": {},
   "outputs": [],
   "source": [
    "data_scaled = data_encoded\n",
    "for col in data_imputed.select_dtypes(include=\"number\").columns:\n",
    "    scaler = StandardScaler()\n",
    "    scaler.fit_transform(data_scaled[[col]])\n",
    "data_scaled.head()"
   ]
  },
  {
   "cell_type": "markdown",
   "metadata": {},
   "source": [
    "## Data Saving\n",
    "\n",
    "save the dataset into a csv file."
   ]
  },
  {
   "cell_type": "code",
   "execution_count": null,
   "metadata": {},
   "outputs": [],
   "source": [
    "data_scaled.to_csv(\"metabo_encoded.csv\", index = True)"
   ]
  }
 ],
 "metadata": {
  "kernelspec": {
   "display_name": "Python 3",
   "language": "python",
   "name": "python3"
  },
  "language_info": {
   "codemirror_mode": {
    "name": "ipython",
    "version": 3
   },
   "file_extension": ".py",
   "mimetype": "text/x-python",
   "name": "python",
   "nbconvert_exporter": "python",
   "pygments_lexer": "ipython3",
   "version": "3.9.13"
  }
 },
 "nbformat": 4,
 "nbformat_minor": 2
}
